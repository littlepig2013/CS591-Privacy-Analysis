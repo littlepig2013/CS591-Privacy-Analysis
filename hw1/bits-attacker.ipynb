{
 "cells": [
  {
   "cell_type": "code",
   "execution_count": 16,
   "metadata": {},
   "outputs": [
    {
     "name": "stdout",
     "output_type": "stream",
     "text": [
      "Recovery 1\n",
      "Means:\n",
      "[0.7673, 0.7765, 0.7775, 0.7757, 0.7771, 0.778]\n",
      "Standard Deviation:\n",
      "[0.0568, 0.025, 0.01158, 0.00627, 0.00491, 0.00239]\n",
      "Recovery 2\n",
      "Means:\n",
      "[0.812, 0.8113, 0.8143, 0.8132, 0.8156, 0.8155]\n",
      "Standard Deviation:\n",
      "[0.04585, 0.02538, 0.01073, 0.00651, 0.00433, 0.00214]\n"
     ]
    }
   ],
   "source": [
    "import random\n",
    "import numpy as np\n",
    "\n",
    "def generate_n_bits(n):\n",
    "    return [random.randrange(2) for i in range(n)]\n",
    "\n",
    "\n",
    "def generate_guess_bits(x):\n",
    "    return [i if random.randrange(3) < 2 else 1-i for i in x]\n",
    "\n",
    "\n",
    "def generate_noisy_prefix_sum(bits_vec):\n",
    "    prefix_sum = 0\n",
    "    noisy_prefix_sums = []\n",
    "    for bit in bits_vec:\n",
    "        prefix_sum += bit\n",
    "        noisy_prefix_sums.append(prefix_sum+random.randrange(2))\n",
    "    return noisy_prefix_sums\n",
    "\n",
    "def recovery1(bits_vec, noisy_prefix_sum):\n",
    "    n = len(bits_vec)\n",
    "    return recovery2(bits_vec,noisy_prefix_sum,[])\n",
    "\n",
    "\n",
    "def recovery2(bits_vec, noisy_prefix_sum,w):\n",
    "    length = len(bits_vec)\n",
    "    diff_result = [noisy_prefix_sum[0]] + noisy_prefix_sum[:-1]\n",
    "    for i in range(1, length):\n",
    "        diff_result[i] = noisy_prefix_sum[i] - diff_result[i]\n",
    "    noises = [None for i in range(length)]\n",
    "    fix_flag = [True for i in range(length)]\n",
    "    result = [0 for i in range(length)]\n",
    "    for i in range(length-1,-1,-1):\n",
    "        if diff_result[i] == 2:\n",
    "            result[i] = 1\n",
    "            noises[i-1] = 0\n",
    "            noises[i] = 1\n",
    "        elif diff_result[i] == -1:\n",
    "            result[i] = 0\n",
    "            noises[i-1] = 1\n",
    "            noises[i] = 0\n",
    "        elif diff_result[i] == 0 and noises[i] == 1:\n",
    "            result[i] = 0\n",
    "            if i > 0:\n",
    "                noises[i-1] = 1\n",
    "        elif diff_result[i] == 1 and noises[i] == 0:\n",
    "            result[i] = 1\n",
    "            if i > 0:\n",
    "                noises[i-1] = 0\n",
    "        else:\n",
    "            fix_flag[i] = False\n",
    "            if w == []:\n",
    "                result[i] = diff_result[i]\n",
    "            else:\n",
    "                result[i] = w[i]\n",
    "    for i in range(length-1):\n",
    "        if not fix_flag[i+1] and noises[i] != None:\n",
    "            if noises[i+1] != None:\n",
    "                fix_flag[i + 1] = True\n",
    "                result[i + 1] = diff_result[i+1] - (noises[i+1] - noises[i])\n",
    "            elif diff_result[i+1] == 0 and noises[i] == 0:\n",
    "                noises[i + 1] = 0\n",
    "                fix_flag[i + 1] = True\n",
    "                result[i + 1] = 0\n",
    "            elif diff_result[i+1] == 1 and noises[i] == 1:\n",
    "                noises[i + 1] = 1\n",
    "                fix_flag[i+1] = True\n",
    "                result[i + 1] = 1\n",
    "    return result\n",
    "\n",
    "\n",
    "def test(ns, tries = 30, print_flag=False):\n",
    "    means1 = []\n",
    "    stddev1 = []\n",
    "    means2 = []\n",
    "    stddev2 = []\n",
    "    for n in ns:\n",
    "        recovered_fraction1 = np.array([])\n",
    "        recovered_fraction2 = np.array([])\n",
    "        for t in range(tries):\n",
    "            x = generate_n_bits(n)\n",
    "            w = generate_guess_bits(x)\n",
    "            a = generate_noisy_prefix_sum(x)\n",
    "            o = recovery1(x, a)\n",
    "            recovered_fraction1 = np.append(recovered_fraction1,[sum([o[i] == x[i] for i in range(n)])/n])\n",
    "            o = recovery2(x, a,w)\n",
    "            recovered_fraction2 = np.append(recovered_fraction2,[sum([o[i] == x[i] for i in range(n)])/n])\n",
    "        means1.append(round(np.mean(recovered_fraction1),4))\n",
    "        stddev1.append(round(np.std(recovered_fraction1),5))\n",
    "        means2.append(round(np.mean(recovered_fraction2),4))\n",
    "        stddev2.append(round(np.std(recovered_fraction2),5))\n",
    "    if print_flag:\n",
    "        print(\"Recovery 1\")\n",
    "        print(\"Means:\")\n",
    "        print(means1)\n",
    "        print(\"Standard Deviation:\")\n",
    "        print(stddev1)\n",
    "        print(\"Recovery 2\")\n",
    "        print(\"Means:\")\n",
    "        print(means2)\n",
    "        print(\"Standard Deviation:\")\n",
    "        print(stddev2)\n",
    "    return means1, stddev1, means2, stddev2\n",
    "\n",
    "\n",
    "ns = [100,500,1000,5000,10000,50000]\n",
    "means1, stddev1, means2, stddev2 = test(ns,print_flag=True)"
   ]
  },
  {
   "cell_type": "code",
   "execution_count": 19,
   "metadata": {},
   "outputs": [
    {
     "data": {
      "image/png": "[encoded data removed]",
      "text/plain": [
       "<Figure size 432x288 with 1 Axes>"
      ]
     },
     "metadata": {
      "needs_background": "light"
     },
     "output_type": "display_data"
    },
    {
     "data": {
      "image/png": "[encoded data removed]",
      "text/plain": [
       "<Figure size 432x288 with 1 Axes>"
      ]
     },
     "metadata": {
      "needs_background": "light"
     },
     "output_type": "display_data"
    }
   ],
   "source": [
    "import matplotlib.pyplot as plt\n",
    "\n",
    "def plot(means1, stddev1, means2, stddev2, tries):\n",
    "    fig = plt.figure()\n",
    "    plt.errorbar(ns, means1, yerr=stddev1, uplims=True, lolims=True,\n",
    "             label='recovery 1')\n",
    "    plt.errorbar(ns, means2, yerr=stddev2, uplims=True, lolims=True,\n",
    "             label='recovery 2')\n",
    "    plt.legend(loc='upper right')\n",
    "    plt.title(\"Fraction of recovered bits - n (#tries = \" + str(tries) + \")\")\n",
    "    plt.show()\n",
    "plot(means1, stddev1, means2, stddev2, 30)\n",
    "means1, stddev1, means2, stddev2 = test(ns,tries=50)\n",
    "plot(means1, stddev1, means2, stddev2, 50)\n"
   ]
  },
  {
   "cell_type": "code",
   "execution_count": null,
   "metadata": {},
   "outputs": [],
   "source": []
  }
 ],
 "metadata": {
  "kernelspec": {
   "display_name": "Python 3",
   "language": "python",
   "name": "python3"
  },
  "language_info": {
   "codemirror_mode": {
    "name": "ipython",
    "version": 3
   },
   "file_extension": ".py",
   "mimetype": "text/x-python",
   "name": "python",
   "nbconvert_exporter": "python",
   "pygments_lexer": "ipython3",
   "version": "3.7.4"
  }
 },
 "nbformat": 4,
 "nbformat_minor": 2
}
